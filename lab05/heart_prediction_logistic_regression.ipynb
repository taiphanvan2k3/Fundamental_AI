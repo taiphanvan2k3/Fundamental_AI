{
 "cells": [
  {
   "cell_type": "code",
   "execution_count": 1,
   "metadata": {},
   "outputs": [],
   "source": [
    "import pandas as pd\n",
    "import numpy as np\n",
    "from sklearn.preprocessing import StandardScaler"
   ]
  },
  {
   "cell_type": "markdown",
   "metadata": {},
   "source": [
    "### Đọc và chia dữ liệu thành X, y\n"
   ]
  },
  {
   "cell_type": "code",
   "execution_count": 2,
   "metadata": {},
   "outputs": [],
   "source": [
    "data = pd.read_csv(\"heart.csv\")"
   ]
  },
  {
   "cell_type": "code",
   "execution_count": 3,
   "metadata": {},
   "outputs": [
    {
     "data": {
      "text/plain": [
       "(1025, 14)"
      ]
     },
     "execution_count": 3,
     "metadata": {},
     "output_type": "execute_result"
    }
   ],
   "source": [
    "data.shape"
   ]
  },
  {
   "cell_type": "code",
   "execution_count": 4,
   "metadata": {},
   "outputs": [
    {
     "data": {
      "text/html": [
       "<div>\n",
       "<style scoped>\n",
       "    .dataframe tbody tr th:only-of-type {\n",
       "        vertical-align: middle;\n",
       "    }\n",
       "\n",
       "    .dataframe tbody tr th {\n",
       "        vertical-align: top;\n",
       "    }\n",
       "\n",
       "    .dataframe thead th {\n",
       "        text-align: right;\n",
       "    }\n",
       "</style>\n",
       "<table border=\"1\" class=\"dataframe\">\n",
       "  <thead>\n",
       "    <tr style=\"text-align: right;\">\n",
       "      <th></th>\n",
       "      <th>age</th>\n",
       "      <th>sex</th>\n",
       "      <th>cp</th>\n",
       "      <th>trestbps</th>\n",
       "      <th>chol</th>\n",
       "      <th>fbs</th>\n",
       "      <th>restecg</th>\n",
       "      <th>thalach</th>\n",
       "      <th>exang</th>\n",
       "      <th>oldpeak</th>\n",
       "      <th>slope</th>\n",
       "      <th>ca</th>\n",
       "      <th>thal</th>\n",
       "      <th>target</th>\n",
       "    </tr>\n",
       "  </thead>\n",
       "  <tbody>\n",
       "    <tr>\n",
       "      <th>0</th>\n",
       "      <td>52</td>\n",
       "      <td>1</td>\n",
       "      <td>0</td>\n",
       "      <td>125</td>\n",
       "      <td>212</td>\n",
       "      <td>0</td>\n",
       "      <td>1</td>\n",
       "      <td>168</td>\n",
       "      <td>0</td>\n",
       "      <td>1.0</td>\n",
       "      <td>2</td>\n",
       "      <td>2</td>\n",
       "      <td>3</td>\n",
       "      <td>0</td>\n",
       "    </tr>\n",
       "    <tr>\n",
       "      <th>1</th>\n",
       "      <td>53</td>\n",
       "      <td>1</td>\n",
       "      <td>0</td>\n",
       "      <td>140</td>\n",
       "      <td>203</td>\n",
       "      <td>1</td>\n",
       "      <td>0</td>\n",
       "      <td>155</td>\n",
       "      <td>1</td>\n",
       "      <td>3.1</td>\n",
       "      <td>0</td>\n",
       "      <td>0</td>\n",
       "      <td>3</td>\n",
       "      <td>0</td>\n",
       "    </tr>\n",
       "    <tr>\n",
       "      <th>2</th>\n",
       "      <td>70</td>\n",
       "      <td>1</td>\n",
       "      <td>0</td>\n",
       "      <td>145</td>\n",
       "      <td>174</td>\n",
       "      <td>0</td>\n",
       "      <td>1</td>\n",
       "      <td>125</td>\n",
       "      <td>1</td>\n",
       "      <td>2.6</td>\n",
       "      <td>0</td>\n",
       "      <td>0</td>\n",
       "      <td>3</td>\n",
       "      <td>0</td>\n",
       "    </tr>\n",
       "    <tr>\n",
       "      <th>3</th>\n",
       "      <td>61</td>\n",
       "      <td>1</td>\n",
       "      <td>0</td>\n",
       "      <td>148</td>\n",
       "      <td>203</td>\n",
       "      <td>0</td>\n",
       "      <td>1</td>\n",
       "      <td>161</td>\n",
       "      <td>0</td>\n",
       "      <td>0.0</td>\n",
       "      <td>2</td>\n",
       "      <td>1</td>\n",
       "      <td>3</td>\n",
       "      <td>0</td>\n",
       "    </tr>\n",
       "    <tr>\n",
       "      <th>4</th>\n",
       "      <td>62</td>\n",
       "      <td>0</td>\n",
       "      <td>0</td>\n",
       "      <td>138</td>\n",
       "      <td>294</td>\n",
       "      <td>1</td>\n",
       "      <td>1</td>\n",
       "      <td>106</td>\n",
       "      <td>0</td>\n",
       "      <td>1.9</td>\n",
       "      <td>1</td>\n",
       "      <td>3</td>\n",
       "      <td>2</td>\n",
       "      <td>0</td>\n",
       "    </tr>\n",
       "  </tbody>\n",
       "</table>\n",
       "</div>"
      ],
      "text/plain": [
       "   age  sex  cp  trestbps  chol  fbs  restecg  thalach  exang  oldpeak  slope  \\\n",
       "0   52    1   0       125   212    0        1      168      0      1.0      2   \n",
       "1   53    1   0       140   203    1        0      155      1      3.1      0   \n",
       "2   70    1   0       145   174    0        1      125      1      2.6      0   \n",
       "3   61    1   0       148   203    0        1      161      0      0.0      2   \n",
       "4   62    0   0       138   294    1        1      106      0      1.9      1   \n",
       "\n",
       "   ca  thal  target  \n",
       "0   2     3       0  \n",
       "1   0     3       0  \n",
       "2   0     3       0  \n",
       "3   1     3       0  \n",
       "4   3     2       0  "
      ]
     },
     "execution_count": 4,
     "metadata": {},
     "output_type": "execute_result"
    }
   ],
   "source": [
    "data.head()"
   ]
  },
  {
   "cell_type": "markdown",
   "metadata": {},
   "source": [
    "### Chuẩn hoá lại giá trị, tránh gây tràn số và để đồng nhất khoảng giá trị của features"
   ]
  },
  {
   "cell_type": "code",
   "execution_count": 5,
   "metadata": {},
   "outputs": [],
   "source": [
    "num_features = [\"age\", \"trestbps\", \"chol\", \"thalach\", \"oldpeak\"]\n",
    "scaler = StandardScaler()\n",
    "\n",
    "data[num_features] = scaler.fit_transform(data[num_features])"
   ]
  },
  {
   "cell_type": "code",
   "execution_count": 6,
   "metadata": {},
   "outputs": [],
   "source": [
    "X = data.drop(\"target\", axis=1)\n",
    "y = data[\"target\"]"
   ]
  },
  {
   "cell_type": "code",
   "execution_count": 7,
   "metadata": {},
   "outputs": [
    {
     "data": {
      "text/plain": [
       "array([[-0.26843658,  1.        ,  0.        , ...,  2.        ,\n",
       "         2.        ,  3.        ],\n",
       "       [-0.15815703,  1.        ,  0.        , ...,  0.        ,\n",
       "         0.        ,  3.        ],\n",
       "       [ 1.71659547,  1.        ,  0.        , ...,  0.        ,\n",
       "         0.        ,  3.        ],\n",
       "       ...,\n",
       "       [-0.81983438,  1.        ,  0.        , ...,  1.        ,\n",
       "         1.        ,  2.        ],\n",
       "       [-0.4889957 ,  0.        ,  0.        , ...,  2.        ,\n",
       "         0.        ,  2.        ],\n",
       "       [-0.04787747,  1.        ,  0.        , ...,  1.        ,\n",
       "         1.        ,  3.        ]], shape=(1025, 13))"
      ]
     },
     "execution_count": 7,
     "metadata": {},
     "output_type": "execute_result"
    }
   ],
   "source": [
    "X = X.values\n",
    "X"
   ]
  },
  {
   "cell_type": "code",
   "execution_count": 8,
   "metadata": {},
   "outputs": [],
   "source": [
    "y = y.values.reshape(-1, 1)"
   ]
  },
  {
   "cell_type": "code",
   "execution_count": 9,
   "metadata": {},
   "outputs": [
    {
     "data": {
      "text/plain": [
       "array([[0],\n",
       "       [0],\n",
       "       [0],\n",
       "       ...,\n",
       "       [0],\n",
       "       [1],\n",
       "       [0]], shape=(1025, 1))"
      ]
     },
     "execution_count": 9,
     "metadata": {},
     "output_type": "execute_result"
    }
   ],
   "source": [
    "y"
   ]
  },
  {
   "cell_type": "markdown",
   "metadata": {},
   "source": [
    "### Xây dựng hàm sigmoid\n"
   ]
  },
  {
   "cell_type": "code",
   "execution_count": 10,
   "metadata": {},
   "outputs": [],
   "source": [
    "def sigmoid(z):\n",
    "    return 1 / (1 + np.exp(-z))"
   ]
  },
  {
   "cell_type": "markdown",
   "metadata": {},
   "source": [
    "### Xây dựng hàm dự đoán\n"
   ]
  },
  {
   "cell_type": "code",
   "execution_count": 11,
   "metadata": {},
   "outputs": [],
   "source": [
    "def predict(features, weights):\n",
    "    z = np.dot(features, weights)\n",
    "    return sigmoid(z)"
   ]
  },
  {
   "cell_type": "markdown",
   "metadata": {},
   "source": [
    "### Xây dựng hàm phân lớp\n"
   ]
  },
  {
   "cell_type": "code",
   "execution_count": 12,
   "metadata": {},
   "outputs": [],
   "source": [
    "def classify(predictions):\n",
    "    classes = [1 if prediction >= 0.5 else 0 for prediction in predictions]\n",
    "    return classes"
   ]
  },
  {
   "cell_type": "markdown",
   "metadata": {},
   "source": [
    "### Xây dựng hàm mất mát\n"
   ]
  },
  {
   "cell_type": "code",
   "execution_count": 13,
   "metadata": {},
   "outputs": [],
   "source": [
    "def cost_function(\n",
    "    features,\n",
    "    weights,\n",
    "    labels\n",
    "):\n",
    "    num_samples = len(labels)\n",
    "    predictions = predict(features, weights)  # y_hat, còn labels là y\n",
    "    cost_class1 = -labels * np.log(predictions)\n",
    "    cost_class2 = -(1 - labels) * np.log(1 - predictions)\n",
    "    cost = cost_class1 + cost_class2  #\n",
    "    cost = cost.sum() / num_samples\n",
    "\n",
    "    return cost"
   ]
  },
  {
   "cell_type": "markdown",
   "metadata": {},
   "source": [
    "### Cập nhật trọng số\n"
   ]
  },
  {
   "cell_type": "code",
   "execution_count": 14,
   "metadata": {},
   "outputs": [],
   "source": [
    "def update_weights(features, weights, labels, learning_rate):\n",
    "    num_samples = len(labels)\n",
    "    y_predictions = predict(features, weights)\n",
    "    gradient = np.dot(features.T, y_predictions - labels) / num_samples\n",
    "    weights -= learning_rate * gradient\n",
    "    return weights"
   ]
  },
  {
   "cell_type": "markdown",
   "metadata": {},
   "source": [
    "### Xây dựng mô hình\n"
   ]
  },
  {
   "cell_type": "code",
   "execution_count": 15,
   "metadata": {},
   "outputs": [],
   "source": [
    "def train(X_bar, labels, num_epochs, learning_rate):\n",
    "    d = X_bar.shape[1]\n",
    "    weights = np.zeros((d, 1))\n",
    "\n",
    "    losses = []\n",
    "    best_weights = weights\n",
    "    min_loss = float(\"inf\")\n",
    "    best_epoch = 0\n",
    "\n",
    "    for epoch in range(num_epochs):\n",
    "        weights = update_weights(X_bar, weights, labels, learning_rate)\n",
    "        loss = cost_function(X_bar, weights, labels)\n",
    "        losses.append(loss)\n",
    "\n",
    "        if epoch % 100 == 0:\n",
    "            print(f\"Epoch {epoch}, loss: {loss}\")\n",
    "\n",
    "        if loss < min_loss:\n",
    "            min_loss = loss\n",
    "            best_weights = weights.copy()\n",
    "            best_epoch = epoch\n",
    "\n",
    "    return best_epoch, best_weights, losses"
   ]
  },
  {
   "cell_type": "code",
   "execution_count": 16,
   "metadata": {},
   "outputs": [
    {
     "name": "stdout",
     "output_type": "stream",
     "text": [
      "Epoch 0, loss: 0.6907563006358031\n",
      "Epoch 100, loss: 0.5426889412408231\n",
      "Epoch 200, loss: 0.4819722379412976\n",
      "Epoch 300, loss: 0.45086622910694607\n",
      "Epoch 400, loss: 0.43228402236324676\n",
      "Epoch 500, loss: 0.4199880435121268\n",
      "Epoch 600, loss: 0.41124999919301297\n",
      "Epoch 700, loss: 0.404708242689863\n",
      "Epoch 800, loss: 0.3996136181489816\n",
      "Epoch 900, loss: 0.39552210109734665\n",
      "Epoch 1000, loss: 0.3921546224102875\n",
      "Epoch 1100, loss: 0.3893272682273625\n",
      "Epoch 1200, loss: 0.386913993707203\n",
      "Epoch 1300, loss: 0.38482552778639656\n",
      "Epoch 1400, loss: 0.38299685277918577\n",
      "Epoch 1500, loss: 0.381379465192846\n",
      "Epoch 1600, loss: 0.3799364216395756\n",
      "Epoch 1700, loss: 0.37863906935573716\n",
      "Epoch 1800, loss: 0.37746482971151457\n",
      "Epoch 1900, loss: 0.3763956592604573\n",
      "Epoch 2000, loss: 0.37541695814638665\n",
      "Epoch 2100, loss: 0.3745167808127502\n",
      "Epoch 2200, loss: 0.37368525532082497\n",
      "Epoch 2300, loss: 0.372914149392069\n",
      "Epoch 2400, loss: 0.37219654145993747\n",
      "Epoch 2500, loss: 0.37152656808358364\n",
      "Epoch 2600, loss: 0.3708992277092413\n",
      "Epoch 2700, loss: 0.37031022657318513\n",
      "Epoch 2800, loss: 0.36975585651350773\n",
      "Epoch 2900, loss: 0.36923289721874375\n",
      "Epoch 3000, loss: 0.36873853738769724\n",
      "Epoch 3100, loss: 0.36827031066571836\n",
      "Epoch 3200, loss: 0.36782604322935875\n",
      "Epoch 3300, loss: 0.3674038106286961\n",
      "Epoch 3400, loss: 0.36700190204278554\n",
      "Epoch 3500, loss: 0.3666187905125286\n",
      "Epoch 3600, loss: 0.3662531080243074\n",
      "Epoch 3700, loss: 0.3659036245535412\n",
      "Epoch 3800, loss: 0.36556923035880506\n",
      "Epoch 3900, loss: 0.365248920957964\n",
      "Epoch 4000, loss: 0.3649417843278617\n",
      "Epoch 4100, loss: 0.364646989955783\n",
      "Epoch 4200, loss: 0.36436377943961556\n",
      "Epoch 4300, loss: 0.36409145838842355\n",
      "Epoch 4400, loss: 0.36382938941910303\n",
      "Epoch 4500, loss: 0.36357698608023603\n",
      "Epoch 4600, loss: 0.3633337075629932\n",
      "Epoch 4700, loss: 0.36309905408233856\n",
      "Epoch 4800, loss: 0.3628725628309335\n",
      "Epoch 4900, loss: 0.3626538044238654\n",
      "Epoch 5000, loss: 0.36244237976529303\n",
      "Epoch 5100, loss: 0.3622379172788394\n",
      "Epoch 5200, loss: 0.36204007045247766\n",
      "Epoch 5300, loss: 0.361848515656087\n",
      "Epoch 5400, loss: 0.36166295019606726\n",
      "Epoch 5500, loss: 0.36148309057660966\n",
      "Epoch 5600, loss: 0.36130867094159963\n",
      "Epoch 5700, loss: 0.36113944167481904\n",
      "Epoch 5800, loss: 0.3609751681392374\n",
      "Epoch 5900, loss: 0.36081562953882373\n",
      "Epoch 6000, loss: 0.3606606178885589\n",
      "Epoch 6100, loss: 0.36050993708023993\n",
      "Epoch 6200, loss: 0.3603634020332981\n",
      "Epoch 6300, loss: 0.360220837921253\n",
      "Epoch 6400, loss: 0.36008207946561305\n",
      "Epoch 6500, loss: 0.3599469702900702\n",
      "Epoch 6600, loss: 0.35981536232871186\n",
      "Epoch 6700, loss: 0.35968711528274117\n",
      "Epoch 6800, loss: 0.3595620961208549\n",
      "Epoch 6900, loss: 0.3594401786189975\n",
      "Epoch 7000, loss: 0.3593212429357062\n",
      "Epoch 7100, loss: 0.3592051752196933\n",
      "Epoch 7200, loss: 0.35909186724668585\n",
      "Epoch 7300, loss: 0.3589812160828701\n",
      "Epoch 7400, loss: 0.3588731237725775\n",
      "Epoch 7500, loss: 0.35876749704809424\n",
      "Epoch 7600, loss: 0.3586642470597037\n",
      "Epoch 7700, loss: 0.3585632891242593\n",
      "Epoch 7800, loss: 0.3584645424907606\n",
      "Epoch 7900, loss: 0.35836793012155227\n",
      "Epoch 8000, loss: 0.35827337848790386\n",
      "Epoch 8100, loss: 0.3581808173788425\n",
      "Epoch 8200, loss: 0.35809017972221985\n",
      "Epoch 8300, loss: 0.35800140141708503\n",
      "Epoch 8400, loss: 0.3579144211765211\n",
      "Epoch 8500, loss: 0.3578291803801781\n",
      "Epoch 8600, loss: 0.3577456229357985\n",
      "Epoch 8700, loss: 0.3576636951490972\n",
      "Epoch 8800, loss: 0.3575833456014066\n",
      "Epoch 8900, loss: 0.35750452503454955\n",
      "Epoch 9000, loss: 0.357427186242445\n",
      "Epoch 9100, loss: 0.3573512839689919\n",
      "Epoch 9200, loss: 0.3572767748118116\n",
      "Epoch 9300, loss: 0.357203617131464\n",
      "Epoch 9400, loss: 0.357131770965779\n",
      "Epoch 9500, loss: 0.3570611979489744\n",
      "Epoch 9600, loss: 0.35699186123525456\n",
      "Epoch 9700, loss: 0.3569237254266077\n",
      "Epoch 9800, loss: 0.3568567565045389\n",
      "Epoch 9900, loss: 0.356790921765495\n",
      "Epoch 10000, loss: 0.3567261897597563\n",
      "Epoch 10100, loss: 0.35666253023358346\n",
      "Epoch 10200, loss: 0.3565999140744237\n",
      "Epoch 10300, loss: 0.3565383132589942\n",
      "Epoch 10400, loss: 0.3564777008040719\n",
      "Epoch 10500, loss: 0.3564180507198313\n",
      "Epoch 10600, loss: 0.3563593379655812\n",
      "Epoch 10700, loss: 0.35630153840776235\n",
      "Epoch 10800, loss: 0.3562446287800759\n",
      "Epoch 10900, loss: 0.35618858664562114\n",
      "Epoch 11000, loss: 0.35613339036092917\n",
      "Epoch 11100, loss: 0.3560790190417864\n",
      "Epoch 11200, loss: 0.35602545253074697\n",
      "Epoch 11300, loss: 0.35597267136624144\n",
      "Epoch 11400, loss: 0.3559206567531937\n",
      "Epoch 11500, loss: 0.3558693905350631\n",
      "Epoch 11600, loss: 0.3558188551672354\n",
      "Epoch 11700, loss: 0.355769033691688\n",
      "Epoch 11800, loss: 0.3557199097128634\n",
      "Epoch 11900, loss: 0.35567146737468386\n",
      "Epoch 12000, loss: 0.35562369133864896\n",
      "Epoch 12100, loss: 0.35557656676295707\n",
      "Epoch 12200, loss: 0.3555300792825991\n",
      "Epoch 12300, loss: 0.35548421499037136\n",
      "Epoch 12400, loss: 0.35543896041876294\n",
      "Epoch 12500, loss: 0.35539430252266935\n",
      "Epoch 12600, loss: 0.35535022866289273\n",
      "Epoch 12700, loss: 0.3553067265903868\n",
      "Epoch 12800, loss: 0.35526378443120993\n",
      "Epoch 12900, loss: 0.3552213906721499\n",
      "Epoch 13000, loss: 0.3551795341469877\n",
      "Epoch 13100, loss: 0.3551382040233661\n",
      "Epoch 13200, loss: 0.35509738979023725\n",
      "Epoch 13300, loss: 0.3550570812458558\n",
      "Epoch 13400, loss: 0.35501726848629483\n",
      "Epoch 13500, loss: 0.3549779418944571\n",
      "Epoch 13600, loss: 0.3549390921295574\n",
      "Epoch 13700, loss: 0.3549007101170543\n",
      "Epoch 13800, loss: 0.35486278703900975\n",
      "Epoch 13900, loss: 0.35482531432485415\n",
      "Epoch 14000, loss: 0.3547882836425406\n",
      "Epoch 14100, loss: 0.3547516868900679\n",
      "Epoch 14200, loss: 0.3547155161873545\n",
      "Epoch 14300, loss: 0.3546797638684496\n",
      "Epoch 14400, loss: 0.354644422474063\n",
      "Epoch 14500, loss: 0.3546094847443999\n",
      "Epoch 14600, loss: 0.35457494361228753\n",
      "Epoch 14700, loss: 0.3545407921965785\n",
      "Epoch 14800, loss: 0.3545070237958199\n",
      "Epoch 14900, loss: 0.3544736318821747\n",
      "Epoch 15000, loss: 0.3544406100955855\n",
      "Epoch 15100, loss: 0.3544079522381681\n",
      "Epoch 15200, loss: 0.3543756522688266\n",
      "Epoch 15300, loss: 0.35434370429807743\n",
      "Epoch 15400, loss: 0.35431210258307666\n",
      "Epoch 15500, loss: 0.35428084152283834\n",
      "Epoch 15600, loss: 0.35424991565363756\n",
      "Epoch 15700, loss: 0.35421931964458875\n",
      "Epoch 15800, loss: 0.3541890482933936\n",
      "Epoch 15900, loss: 0.35415909652224853\n",
      "Epoch 16000, loss: 0.35412945937390816\n",
      "Epoch 16100, loss: 0.35410013200789453\n",
      "Epoch 16200, loss: 0.35407110969684913\n",
      "Epoch 16300, loss: 0.35404238782301933\n",
      "Epoch 16400, loss: 0.3540139618748753\n",
      "Epoch 16500, loss: 0.3539858274438503\n",
      "Epoch 16600, loss: 0.3539579802212007\n",
      "Epoch 16700, loss: 0.35393041599498004\n",
      "Epoch 16800, loss: 0.35390313064712203\n",
      "Epoch 16900, loss: 0.35387612015062897\n",
      "Epoch 17000, loss: 0.353849380566861\n",
      "Epoch 17100, loss: 0.3538229080429211\n",
      "Epoch 17200, loss: 0.3537966988091331\n",
      "Epoch 17300, loss: 0.3537707491766093\n",
      "Epoch 17400, loss: 0.3537450555349022\n",
      "Epoch 17500, loss: 0.35371961434973903\n",
      "Epoch 17600, loss: 0.353694422160835\n",
      "Epoch 17700, loss: 0.3536694755797812\n",
      "Epoch 17800, loss: 0.3536447712880062\n",
      "Epoch 17900, loss: 0.3536203060348071\n",
      "Epoch 18000, loss: 0.353596076635447\n",
      "Epoch 18100, loss: 0.35357207996931767\n",
      "Epoch 18200, loss: 0.35354831297816397\n",
      "Epoch 18300, loss: 0.3535247726643675\n",
      "Epoch 18400, loss: 0.3535014560892881\n",
      "Epoch 18500, loss: 0.3534783603716601\n",
      "Epoch 18600, loss: 0.3534554826860411\n",
      "Epoch 18700, loss: 0.3534328202613135\n",
      "Epoch 18800, loss: 0.3534103703792328\n",
      "Epoch 18900, loss: 0.35338813037302486\n",
      "Epoch 19000, loss: 0.3533660976260285\n",
      "Epoch 19100, loss: 0.3533442695703805\n",
      "Epoch 19200, loss: 0.353322643685745\n",
      "Epoch 19300, loss: 0.35330121749808185\n",
      "Epoch 19400, loss: 0.3532799885784547\n",
      "Epoch 19500, loss: 0.35325895454187695\n",
      "Epoch 19600, loss: 0.3532381130461939\n",
      "Epoch 19700, loss: 0.35321746179100005\n",
      "Epoch 19800, loss: 0.3531969985165902\n",
      "Epoch 19900, loss: 0.3531767210029429\n"
     ]
    }
   ],
   "source": [
    "num_epochs = 20000\n",
    "learning_rate = 0.01\n",
    "X_bar = np.c_[np.ones((X.shape[0], 1)), X]\n",
    "\n",
    "best_epoch, best_weights, losses = train(X_bar, y, num_epochs, learning_rate)"
   ]
  },
  {
   "cell_type": "code",
   "execution_count": 17,
   "metadata": {},
   "outputs": [
    {
     "data": {
      "image/png": "[encoded data removed]",
      "text/plain": [
       "<Figure size 640x480 with 1 Axes>"
      ]
     },
     "metadata": {},
     "output_type": "display_data"
    }
   ],
   "source": [
    "# Vẽ đồ thị biểu diễn cost\n",
    "import matplotlib.pyplot as plt\n",
    "plt.plot(losses)\n",
    "plt.xlabel(\"Number of epochs\")\n",
    "plt.ylabel(\"Cost\")\n",
    "plt.title(\"Cost function over epochs\")\n",
    "plt.show()"
   ]
  },
  {
   "cell_type": "markdown",
   "metadata": {},
   "source": [
    "### Thay đổi số epoch (Early Stopping)"
   ]
  },
  {
   "cell_type": "code",
   "execution_count": 19,
   "metadata": {},
   "outputs": [
    {
     "name": "stdout",
     "output_type": "stream",
     "text": [
      "Epoch 0, loss: 0.6907563006358031\n",
      "Epoch 100, loss: 0.5426889412408231\n",
      "Epoch 200, loss: 0.4819722379412976\n",
      "Epoch 300, loss: 0.45086622910694607\n",
      "Epoch 400, loss: 0.43228402236324676\n",
      "Epoch 500, loss: 0.4199880435121268\n",
      "Epoch 600, loss: 0.41124999919301297\n",
      "Epoch 700, loss: 0.404708242689863\n",
      "Epoch 800, loss: 0.3996136181489816\n",
      "Epoch 900, loss: 0.39552210109734665\n",
      "Epoch 1000, loss: 0.3921546224102875\n",
      "Epoch 1100, loss: 0.3893272682273625\n",
      "Epoch 1200, loss: 0.386913993707203\n",
      "Epoch 1300, loss: 0.38482552778639656\n",
      "Epoch 1400, loss: 0.38299685277918577\n",
      "Epoch 1500, loss: 0.381379465192846\n",
      "Epoch 1600, loss: 0.3799364216395756\n",
      "Epoch 1700, loss: 0.37863906935573716\n",
      "Epoch 1800, loss: 0.37746482971151457\n",
      "Epoch 1900, loss: 0.3763956592604573\n",
      "Epoch 2000, loss: 0.37541695814638665\n",
      "Epoch 2100, loss: 0.3745167808127502\n",
      "Epoch 2200, loss: 0.37368525532082497\n",
      "Epoch 2300, loss: 0.372914149392069\n",
      "Epoch 2400, loss: 0.37219654145993747\n",
      "Epoch 2500, loss: 0.37152656808358364\n",
      "Epoch 2600, loss: 0.3708992277092413\n",
      "Epoch 2700, loss: 0.37031022657318513\n",
      "Epoch 2800, loss: 0.36975585651350773\n",
      "Epoch 2900, loss: 0.36923289721874375\n",
      "Epoch 3000, loss: 0.36873853738769724\n",
      "Epoch 3100, loss: 0.36827031066571836\n",
      "Epoch 3200, loss: 0.36782604322935875\n",
      "Epoch 3300, loss: 0.3674038106286961\n",
      "Epoch 3400, loss: 0.36700190204278554\n",
      "Epoch 3500, loss: 0.3666187905125286\n",
      "Epoch 3600, loss: 0.3662531080243074\n",
      "Epoch 3700, loss: 0.3659036245535412\n",
      "Epoch 3800, loss: 0.36556923035880506\n",
      "Epoch 3900, loss: 0.365248920957964\n",
      "Epoch 4000, loss: 0.3649417843278617\n",
      "Epoch 4100, loss: 0.364646989955783\n",
      "Epoch 4200, loss: 0.36436377943961556\n",
      "Epoch 4300, loss: 0.36409145838842355\n",
      "Epoch 4400, loss: 0.36382938941910303\n",
      "Epoch 4500, loss: 0.36357698608023603\n",
      "Epoch 4600, loss: 0.3633337075629932\n",
      "Epoch 4700, loss: 0.36309905408233856\n",
      "Epoch 4800, loss: 0.3628725628309335\n",
      "Epoch 4900, loss: 0.3626538044238654\n",
      "Epoch 5000, loss: 0.36244237976529303\n",
      "Epoch 5100, loss: 0.3622379172788394\n",
      "Epoch 5200, loss: 0.36204007045247766\n",
      "Epoch 5300, loss: 0.361848515656087\n",
      "Epoch 5400, loss: 0.36166295019606726\n",
      "Epoch 5500, loss: 0.36148309057660966\n",
      "Epoch 5600, loss: 0.36130867094159963\n",
      "Epoch 5700, loss: 0.36113944167481904\n",
      "Epoch 5800, loss: 0.3609751681392374\n",
      "Epoch 5900, loss: 0.36081562953882373\n",
      "Epoch 6000, loss: 0.3606606178885589\n",
      "Epoch 6100, loss: 0.36050993708023993\n",
      "Epoch 6200, loss: 0.3603634020332981\n",
      "Epoch 6300, loss: 0.360220837921253\n",
      "Epoch 6400, loss: 0.36008207946561305\n",
      "Epoch 6500, loss: 0.3599469702900702\n",
      "Epoch 6600, loss: 0.35981536232871186\n",
      "Epoch 6700, loss: 0.35968711528274117\n",
      "Epoch 6800, loss: 0.3595620961208549\n",
      "Epoch 6900, loss: 0.3594401786189975\n",
      "Epoch 7000, loss: 0.3593212429357062\n",
      "Epoch 7100, loss: 0.3592051752196933\n",
      "Epoch 7200, loss: 0.35909186724668585\n",
      "Epoch 7300, loss: 0.3589812160828701\n",
      "Epoch 7400, loss: 0.3588731237725775\n",
      "Epoch 7500, loss: 0.35876749704809424\n",
      "Epoch 7600, loss: 0.3586642470597037\n",
      "Epoch 7700, loss: 0.3585632891242593\n",
      "Epoch 7800, loss: 0.3584645424907606\n",
      "Epoch 7900, loss: 0.35836793012155227\n",
      "Epoch 8000, loss: 0.35827337848790386\n",
      "Epoch 8100, loss: 0.3581808173788425\n",
      "Epoch 8200, loss: 0.35809017972221985\n",
      "Epoch 8300, loss: 0.35800140141708503\n",
      "Epoch 8400, loss: 0.3579144211765211\n",
      "Epoch 8500, loss: 0.3578291803801781\n",
      "Epoch 8600, loss: 0.3577456229357985\n",
      "Epoch 8700, loss: 0.3576636951490972\n",
      "Epoch 8800, loss: 0.3575833456014066\n",
      "Epoch 8900, loss: 0.35750452503454955\n",
      "Epoch 9000, loss: 0.357427186242445\n",
      "Epoch 9100, loss: 0.3573512839689919\n",
      "Epoch 9200, loss: 0.3572767748118116\n",
      "Epoch 9300, loss: 0.357203617131464\n",
      "Epoch 9400, loss: 0.357131770965779\n",
      "Epoch 9500, loss: 0.3570611979489744\n",
      "Epoch 9600, loss: 0.35699186123525456\n",
      "Epoch 9700, loss: 0.3569237254266077\n",
      "Epoch 9800, loss: 0.3568567565045389\n",
      "Epoch 9900, loss: 0.356790921765495\n"
     ]
    }
   ],
   "source": [
    "num_epochs = 10000\n",
    "best_epoch, best_weights, losses = train(X_bar, y, num_epochs, learning_rate)"
   ]
  },
  {
   "cell_type": "code",
   "execution_count": null,
   "metadata": {},
   "outputs": [
    {
     "data": {
      "image/png": "[encoded data removed]",
      "text/plain": [
       "<Figure size 640x480 with 1 Axes>"
      ]
     },
     "metadata": {},
     "output_type": "display_data"
    }
   ],
   "source": [
    "# Vẽ đồ thị biểu diễn cost\n",
    "import matplotlib.pyplot as plt\n",
    "plt.plot(losses)\n",
    "plt.xlabel(\"Number of epochs\")\n",
    "plt.ylabel(\"Cost\")\n",
    "plt.title(\"Cost function over epochs\")\n",
    "plt.show()"
   ]
  },
  {
   "cell_type": "markdown",
   "metadata": {},
   "source": [
    "### Tính toán độ chính xác"
   ]
  },
  {
   "cell_type": "code",
   "execution_count": 20,
   "metadata": {},
   "outputs": [
    {
     "data": {
      "text/plain": [
       "(9999, 0.8673170731707317)"
      ]
     },
     "execution_count": 20,
     "metadata": {},
     "output_type": "execute_result"
    }
   ],
   "source": [
    "y_pred = predict(X_bar, best_weights)\n",
    "y_pred = classify(y_pred)\n",
    "\n",
    "n = X_bar.shape[0]\n",
    "correct_records = 0\n",
    "for i in range(n):\n",
    "    if y_pred[i] == y[i]:\n",
    "        correct_records += 1\n",
    "\n",
    "accuracy = correct_records / n\n",
    "best_epoch, accuracy"
   ]
  }
 ],
 "metadata": {
  "kernelspec": {
   "display_name": ".venv",
   "language": "python",
   "name": "python3"
  },
  "language_info": {
   "codemirror_mode": {
    "name": "ipython",
    "version": 3
   },
   "file_extension": ".py",
   "mimetype": "text/x-python",
   "name": "python",
   "nbconvert_exporter": "python",
   "pygments_lexer": "ipython3",
   "version": "3.12.8"
  }
 },
 "nbformat": 4,
 "nbformat_minor": 2
}
