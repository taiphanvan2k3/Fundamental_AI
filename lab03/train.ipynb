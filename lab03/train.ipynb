{
 "cells": [
  {
   "cell_type": "code",
   "execution_count": 16,
   "metadata": {},
   "outputs": [],
   "source": [
    "import pandas as pd\n",
    "import numpy as np"
   ]
  },
  {
   "cell_type": "code",
   "execution_count": 17,
   "metadata": {},
   "outputs": [],
   "source": [
    "data = pd.read_csv(\"./USA_Housing.csv\")\n",
    "data = data.drop(\"Address\", axis=1)"
   ]
  },
  {
   "cell_type": "code",
   "execution_count": 18,
   "metadata": {},
   "outputs": [],
   "source": [
    "X = data.drop(\"Price\", axis=1).values\n",
    "y = data[\"Price\"].values"
   ]
  },
  {
   "cell_type": "code",
   "execution_count": 19,
   "metadata": {},
   "outputs": [
    {
     "data": {
      "text/plain": [
       "array([[7.95454586e+04, 5.68286132e+00, 7.00918814e+00, 4.09000000e+00,\n",
       "        2.30868005e+04],\n",
       "       [7.92486425e+04, 6.00289981e+00, 6.73082102e+00, 3.09000000e+00,\n",
       "        4.01730722e+04],\n",
       "       [6.12870672e+04, 5.86588984e+00, 8.51272743e+00, 5.13000000e+00,\n",
       "        3.68821594e+04],\n",
       "       [6.33452400e+04, 7.18823609e+00, 5.58672866e+00, 3.26000000e+00,\n",
       "        3.43102428e+04],\n",
       "       [5.99821972e+04, 5.04055452e+00, 7.83938779e+00, 4.23000000e+00,\n",
       "        2.63541095e+04]])"
      ]
     },
     "execution_count": 19,
     "metadata": {},
     "output_type": "execute_result"
    }
   ],
   "source": [
    "X[:5]"
   ]
  },
  {
   "cell_type": "code",
   "execution_count": 20,
   "metadata": {},
   "outputs": [
    {
     "data": {
      "text/plain": [
       "array([1059033.55787012, 1505890.91484695, 1058987.98787608, ...,\n",
       "       1030729.58315229, 1198656.87240769, 1298950.48026696],\n",
       "      shape=(5000,))"
      ]
     },
     "execution_count": 20,
     "metadata": {},
     "output_type": "execute_result"
    }
   ],
   "source": [
    "y"
   ]
  },
  {
   "cell_type": "code",
   "execution_count": 21,
   "metadata": {},
   "outputs": [],
   "source": [
    "train_size = int(0.7 * len(X))\n",
    "X_train, X_test = X[:train_size], X[train_size:]\n",
    "y_train, y_test = y[:train_size], y[train_size:]"
   ]
  },
  {
   "cell_type": "code",
   "execution_count": 22,
   "metadata": {},
   "outputs": [],
   "source": [
    "X_train = np.hstack([np.ones((len(X_train), 1)), X_train])"
   ]
  },
  {
   "cell_type": "code",
   "execution_count": 23,
   "metadata": {},
   "outputs": [],
   "source": [
    "# Tính toán các hệ số hồi quy bằng công thức:\n",
    "# w = (X^T*X)^(-1)*X^T*y"
   ]
  },
  {
   "cell_type": "code",
   "execution_count": 24,
   "metadata": {},
   "outputs": [],
   "source": [
    "XTX = np.dot(X_train.T, X_train)\n",
    "XTX_inv = np.linalg.inv(XTX)\n",
    "XTY = np.dot(X_train.T, y_train)\n",
    "w = np.dot(XTX_inv, XTY)"
   ]
  },
  {
   "cell_type": "code",
   "execution_count": 25,
   "metadata": {},
   "outputs": [
    {
     "data": {
      "text/plain": [
       "array([-2.63619779e+06,  2.16785327e+01,  1.65557313e+05,  1.20430516e+05,\n",
       "        1.06216590e+03,  1.51419972e+01])"
      ]
     },
     "execution_count": 25,
     "metadata": {},
     "output_type": "execute_result"
    }
   ],
   "source": [
    "w"
   ]
  },
  {
   "cell_type": "code",
   "execution_count": 26,
   "metadata": {},
   "outputs": [],
   "source": [
    "var1 = 79248.642454\n",
    "var2 = 6.002899\n",
    "var3 = 6.73082\n",
    "var4 = 3.09\n",
    "var5 = 40173.07217"
   ]
  },
  {
   "cell_type": "code",
   "execution_count": 27,
   "metadata": {},
   "outputs": [],
   "source": [
    "def predict_price(var1, var2, var3, var4, var5):\n",
    "    input_vars = np.array([1, var1, var2, var3, var4, var5])\n",
    "    return np.dot(input_vars, w)"
   ]
  },
  {
   "cell_type": "code",
   "execution_count": 28,
   "metadata": {},
   "outputs": [],
   "source": [
    "pred = round(predict_price(var1, var2, var3, var4, var5))"
   ]
  },
  {
   "cell_type": "code",
   "execution_count": 29,
   "metadata": {},
   "outputs": [
    {
     "name": "stdout",
     "output_type": "stream",
     "text": [
      "Giá nhà dự đoán: 1497799\n"
     ]
    }
   ],
   "source": [
    "print(\"Giá nhà dự đoán:\", pred)"
   ]
  }
 ],
 "metadata": {
  "kernelspec": {
   "display_name": ".venv",
   "language": "python",
   "name": "python3"
  },
  "language_info": {
   "codemirror_mode": {
    "name": "ipython",
    "version": 3
   },
   "file_extension": ".py",
   "mimetype": "text/x-python",
   "name": "python",
   "nbconvert_exporter": "python",
   "pygments_lexer": "ipython3",
   "version": "3.12.8"
  }
 },
 "nbformat": 4,
 "nbformat_minor": 2
}
