{
 "cells": [
  {
   "cell_type": "code",
   "execution_count": 1,
   "metadata": {},
   "outputs": [],
   "source": [
    "import pandas as pd\n",
    "from sklearn.metrics import accuracy_score"
   ]
  },
  {
   "cell_type": "code",
   "execution_count": 2,
   "metadata": {},
   "outputs": [],
   "source": [
    "df = pd.read_csv(\"data.csv\")"
   ]
  },
  {
   "cell_type": "code",
   "execution_count": 3,
   "metadata": {},
   "outputs": [],
   "source": [
    "# Chuyển y_pred_random_forest và y_pred_logistic thành 0,1\n",
    "df[\"y_pred_random_forest\"] = df[\"y_pred_random_forest\"].apply(\n",
    "    lambda x: 1 if x > 0.5 else 0\n",
    ")\n",
    "df[\"y_pred_logistic\"] = df[\"y_pred_logistic\"].apply(lambda x: 1 if x > 0.5 else 0)\n",
    "\n",
    "df[\"y_act\"] = df[\"y_act\"].astype(int)\n",
    "df[\"y_pred_random_forest\"] = df[\"y_pred_random_forest\"].astype(int)"
   ]
  },
  {
   "cell_type": "code",
   "execution_count": 4,
   "metadata": {},
   "outputs": [
    {
     "data": {
      "text/html": [
       "<div>\n",
       "<style scoped>\n",
       "    .dataframe tbody tr th:only-of-type {\n",
       "        vertical-align: middle;\n",
       "    }\n",
       "\n",
       "    .dataframe tbody tr th {\n",
       "        vertical-align: top;\n",
       "    }\n",
       "\n",
       "    .dataframe thead th {\n",
       "        text-align: right;\n",
       "    }\n",
       "</style>\n",
       "<table border=\"1\" class=\"dataframe\">\n",
       "  <thead>\n",
       "    <tr style=\"text-align: right;\">\n",
       "      <th></th>\n",
       "      <th>y_act</th>\n",
       "      <th>y_pred_random_forest</th>\n",
       "      <th>y_pred_logistic</th>\n",
       "    </tr>\n",
       "  </thead>\n",
       "  <tbody>\n",
       "    <tr>\n",
       "      <th>0</th>\n",
       "      <td>1</td>\n",
       "      <td>1</td>\n",
       "      <td>1</td>\n",
       "    </tr>\n",
       "    <tr>\n",
       "      <th>1</th>\n",
       "      <td>0</td>\n",
       "      <td>0</td>\n",
       "      <td>0</td>\n",
       "    </tr>\n",
       "    <tr>\n",
       "      <th>2</th>\n",
       "      <td>1</td>\n",
       "      <td>1</td>\n",
       "      <td>1</td>\n",
       "    </tr>\n",
       "    <tr>\n",
       "      <th>3</th>\n",
       "      <td>1</td>\n",
       "      <td>1</td>\n",
       "      <td>0</td>\n",
       "    </tr>\n",
       "    <tr>\n",
       "      <th>4</th>\n",
       "      <td>0</td>\n",
       "      <td>0</td>\n",
       "      <td>0</td>\n",
       "    </tr>\n",
       "  </tbody>\n",
       "</table>\n",
       "</div>"
      ],
      "text/plain": [
       "   y_act  y_pred_random_forest  y_pred_logistic\n",
       "0      1                     1                1\n",
       "1      0                     0                0\n",
       "2      1                     1                1\n",
       "3      1                     1                0\n",
       "4      0                     0                0"
      ]
     },
     "execution_count": 4,
     "metadata": {},
     "output_type": "execute_result"
    }
   ],
   "source": [
    "df.head()"
   ]
  },
  {
   "cell_type": "code",
   "execution_count": 5,
   "metadata": {},
   "outputs": [
    {
     "name": "stdout",
     "output_type": "stream",
     "text": [
      "y_act                   int64\n",
      "y_pred_random_forest    int64\n",
      "y_pred_logistic         int64\n",
      "dtype: object\n",
      "[1 0]\n",
      "[1 0]\n"
     ]
    }
   ],
   "source": [
    "print(df.dtypes)  # Kiểm tra kiểu dữ liệu của từng cột\n",
    "print(df[\"y_act\"].unique())  # Kiểm tra giá trị có bất thường không\n",
    "print(df[\"y_pred_random_forest\"].unique())  # Kiểm tra giá trị có bất thường không"
   ]
  },
  {
   "cell_type": "code",
   "execution_count": 6,
   "metadata": {},
   "outputs": [],
   "source": [
    "def calculate_tp_tn_fp_fn(df, column_name):\n",
    "    tp = ((df[\"y_act\"] == 1) & (df[column_name] == 1)).sum()\n",
    "    tn = ((df[\"y_act\"] == 0) & (df[column_name] == 0)).sum()\n",
    "    fp = ((df[\"y_act\"] == 0) & (df[column_name] == 1)).sum()\n",
    "    fn = ((df[\"y_act\"] == 1) & (df[column_name] == 0)).sum()\n",
    "    return tp, tn, fp, fn"
   ]
  },
  {
   "cell_type": "code",
   "execution_count": 7,
   "metadata": {},
   "outputs": [
    {
     "data": {
      "text/plain": [
       "10566"
      ]
     },
     "execution_count": 7,
     "metadata": {},
     "output_type": "execute_result"
    }
   ],
   "source": [
    "sum(df[\"y_act\"] == df[\"y_pred_random_forest\"])  # Số lượng 1 trong cột y_act"
   ]
  },
  {
   "cell_type": "code",
   "execution_count": 8,
   "metadata": {},
   "outputs": [],
   "source": [
    "tp_rf, tn_rf, fp_rf, fn_rf = calculate_tp_tn_fp_fn(df, \"y_pred_random_forest\")\n",
    "tp_lg, tn_lg, fp_lg, fn_lg = calculate_tp_tn_fp_fn(df, \"y_pred_logistic\")"
   ]
  },
  {
   "cell_type": "code",
   "execution_count": null,
   "metadata": {},
   "outputs": [],
   "source": [
    "def calculate_accuracy(tp, tn, fp, fn):\n",
    "    return (tp + tn) / (tp + tn + fp + fn)\n",
    "\n",
    "\n",
    "def calculate_recall_positive(tp, fn):\n",
    "    return tp / (tp + fn)\n",
    "\n",
    "\n",
    "def calculate_recall_negative(tn, fp):\n",
    "    return tn / (tn + fp)\n",
    "\n",
    "\n",
    "def calculate_precision_positive(tp, fp):\n",
    "    return tp / (tp + fp)\n",
    "\n",
    "\n",
    "def calculate_precision_negative(tn, fn):\n",
    "    return tn / (tn + fn)\n",
    "\n",
    "\n",
    "def calculate_f1_score(precision, recall):\n",
    "    return 2 * precision * recall / (precision + recall)"
   ]
  },
  {
   "cell_type": "markdown",
   "metadata": {},
   "source": [
    "### Random Forest\n"
   ]
  },
  {
   "cell_type": "code",
   "execution_count": 10,
   "metadata": {},
   "outputs": [
    {
     "name": "stdout",
     "output_type": "stream",
     "text": [
      "Random Forest\n",
      "Accuracy: 0.6705165630156111\n",
      "Recall positive: 0.6405635232897576\n",
      "Recall negative: 0.7004696027414646\n",
      "Precision positive: 0.681382476036182\n",
      "Precision negative: 0.6608789366542929\n",
      "F1 score positive: 0.660342797330891\n",
      "F1 score negative: 0.6800985828712262\n"
     ]
    }
   ],
   "source": [
    "accuracy_rf = calculate_accuracy(tp_rf, tn_rf, fp_rf, fn_rf)\n",
    "recall_positive_rf = calculate_recall_positive(tp_rf, fn_rf)\n",
    "recall_negative_rf = calculate_recall_negative(tn_rf, fp_rf)\n",
    "precision_positive_rf = calculate_precision_positive(tp_rf, fp_rf)\n",
    "precision_negative_rf = calculate_precision_negative(tn_rf, fn_rf)\n",
    "f1_score_positive_rf = calculate_f1_score(precision_positive_rf, recall_positive_rf)\n",
    "f1_score_negative_rf = calculate_f1_score(precision_negative_rf, recall_negative_rf)\n",
    "\n",
    "print(\"Random Forest\")\n",
    "print(\"Accuracy:\", accuracy_rf)\n",
    "print(\"Recall positive:\", recall_positive_rf)\n",
    "print(\"Recall negative:\", recall_negative_rf)\n",
    "print(\"Precision positive:\", precision_positive_rf)\n",
    "print(\"Precision negative:\", precision_negative_rf)\n",
    "print(\"F1 score positive:\", f1_score_positive_rf)\n",
    "print(\"F1 score negative:\", f1_score_negative_rf)"
   ]
  },
  {
   "cell_type": "markdown",
   "metadata": {},
   "source": [
    "### Thử lại với Scikit-learn\n"
   ]
  },
  {
   "cell_type": "code",
   "execution_count": 11,
   "metadata": {},
   "outputs": [
    {
     "name": "stdout",
     "output_type": "stream",
     "text": [
      "0.6705165630156111\n",
      "0.6158141896179719\n"
     ]
    }
   ],
   "source": [
    "print(accuracy_score(df[\"y_act\"], df[\"y_pred_random_forest\"]))\n",
    "print(accuracy_score(df[\"y_act\"], df[\"y_pred_logistic\"]))"
   ]
  },
  {
   "cell_type": "markdown",
   "metadata": {},
   "source": [
    "### Logistic Regression\n"
   ]
  },
  {
   "cell_type": "code",
   "execution_count": 12,
   "metadata": {},
   "outputs": [
    {
     "name": "stdout",
     "output_type": "stream",
     "text": [
      "Logistic Regression\n",
      "Accuracy: 0.6158141896179719\n",
      "Recall positive: 0.5430892245208783\n",
      "Recall negative: 0.6885391547150653\n",
      "Precision positive: 0.6355265112134264\n",
      "Precision negative: 0.6011080332409973\n",
      "F1 score positive: 0.5856830002737475\n",
      "F1 score negative: 0.6418599148130619\n"
     ]
    }
   ],
   "source": [
    "accuracy_lg = calculate_accuracy(tp_lg, tn_lg, fp_lg, fn_lg)\n",
    "recall_positive_lg = calculate_recall_positive(tp_lg, fn_lg)\n",
    "recall_negative_lg = calculate_recall_negative(tn_lg, fp_lg)\n",
    "precision_positive_lg = calculate_precision_positive(tp_lg, fp_lg)\n",
    "precision_negative_lg = calculate_precision_negative(tn_lg, fn_lg)\n",
    "f1_score_positive_lg = calculate_f1_score(precision_positive_lg, recall_positive_lg)\n",
    "f1_score_negative_lg = calculate_f1_score(precision_negative_lg, recall_negative_lg)\n",
    "\n",
    "print(\"Logistic Regression\")\n",
    "print(\"Accuracy:\", accuracy_lg)\n",
    "print(\"Recall positive:\", recall_positive_lg)\n",
    "print(\"Recall negative:\", recall_negative_lg)\n",
    "print(\"Precision positive:\", precision_positive_lg)\n",
    "print(\"Precision negative:\", precision_negative_lg)\n",
    "print(\"F1 score positive:\", f1_score_positive_lg)\n",
    "print(\"F1 score negative:\", f1_score_negative_lg)"
   ]
  },
  {
   "cell_type": "markdown",
   "metadata": {},
   "source": [
    "### Thử lại với Scikit-learn cho Logistic Regression\n"
   ]
  },
  {
   "cell_type": "code",
   "execution_count": 14,
   "metadata": {},
   "outputs": [
    {
     "name": "stdout",
     "output_type": "stream",
     "text": [
      "0.6158141896179719\n"
     ]
    }
   ],
   "source": [
    "print(accuracy_score(df[\"y_act\"], df[\"y_pred_logistic\"]))"
   ]
  },
  {
   "cell_type": "markdown",
   "metadata": {},
   "source": [
    "### Confusion Matrix\n"
   ]
  },
  {
   "cell_type": "code",
   "execution_count": 19,
   "metadata": {},
   "outputs": [],
   "source": [
    "def calculate_confusion_matrix(tp, tn, fp, fn):\n",
    "    total = tp + tn + fp + fn\n",
    "\n",
    "    return pd.DataFrame(\n",
    "        {\n",
    "            \"Positive\": [tp / total, fp / total],\n",
    "            \"Negative\": [fn / total, tn / total],\n",
    "        },\n",
    "        index=[\"Positive\", \"Negative\"],\n",
    "    )"
   ]
  },
  {
   "cell_type": "code",
   "execution_count": 20,
   "metadata": {},
   "outputs": [],
   "source": [
    "# Vẽ confusion matrix\n",
    "confusion_matrix_rf = calculate_confusion_matrix(tp_rf, tn_rf, fp_rf, fn_rf)\n",
    "confusion_matrix_lg = calculate_confusion_matrix(tp_lg, tn_lg, fp_lg, fn_lg)"
   ]
  },
  {
   "cell_type": "code",
   "execution_count": 21,
   "metadata": {},
   "outputs": [
    {
     "data": {
      "image/png": "[encoded data removed]",
      "text/plain": [
       "<Figure size 1000x500 with 2 Axes>"
      ]
     },
     "metadata": {},
     "output_type": "display_data"
    }
   ],
   "source": [
    "import seaborn as sns\n",
    "import matplotlib.pyplot as plt\n",
    "\n",
    "plt.figure(figsize=(10, 5))\n",
    "plt.subplot(1, 2, 1)\n",
    "sns.heatmap(confusion_matrix_rf, annot=True, cmap=\"Blues\", cbar=False)\n",
    "plt.title(\"Random Forest\")\n",
    "plt.subplot(1, 2, 2)\n",
    "sns.heatmap(confusion_matrix_lg, annot=True, cmap=\"Blues\", cbar=False)\n",
    "plt.title(\"Logistic Regression\")\n",
    "plt.show()"
   ]
  },
  {
   "cell_type": "markdown",
   "metadata": {},
   "source": [
    "### Vẽ đồ thị roc_curve và roc_auc_score"
   ]
  },
  {
   "cell_type": "code",
   "execution_count": 22,
   "metadata": {},
   "outputs": [],
   "source": [
    "from sklearn.metrics import roc_curve, roc_auc_score"
   ]
  },
  {
   "cell_type": "code",
   "execution_count": 28,
   "metadata": {},
   "outputs": [],
   "source": [
    "fpr_rf, tpr_rf, thresholds  = roc_curve(df[\"y_act\"], df[\"y_pred_random_forest\"])\n",
    "auc_score_rf = roc_auc_score(df[\"y_act\"], df[\"y_pred_random_forest\"])"
   ]
  },
  {
   "cell_type": "code",
   "execution_count": 30,
   "metadata": {},
   "outputs": [
    {
     "data": {
      "text/plain": [
       "(array([0.       , 0.2995304, 1.       ]),\n",
       " array([0.        , 0.64056352, 1.        ]),\n",
       " array([inf,  1.,  0.]))"
      ]
     },
     "execution_count": 30,
     "metadata": {},
     "output_type": "execute_result"
    }
   ],
   "source": [
    "fpr_rf, tpr_rf, thresholds"
   ]
  }
 ],
 "metadata": {
  "kernelspec": {
   "display_name": ".venv",
   "language": "python",
   "name": "python3"
  },
  "language_info": {
   "codemirror_mode": {
    "name": "ipython",
    "version": 3
   },
   "file_extension": ".py",
   "mimetype": "text/x-python",
   "name": "python",
   "nbconvert_exporter": "python",
   "pygments_lexer": "ipython3",
   "version": "3.12.8"
  }
 },
 "nbformat": 4,
 "nbformat_minor": 2
}
