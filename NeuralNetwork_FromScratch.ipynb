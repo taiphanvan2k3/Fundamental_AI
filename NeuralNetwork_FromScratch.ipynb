{
  "nbformat": 4,
  "nbformat_minor": 0,
  "metadata": {
    "colab": {
      "provenance": [],
      "authorship_tag": "ABX9TyMJtH9g6ys4eukT+kn+PFH2",
      "include_colab_link": true
    },
    "kernelspec": {
      "name": "python3",
      "display_name": "Python 3"
    },
    "language_info": {
      "name": "python"
    }
  },
  "cells": [
    {
      "cell_type": "markdown",
      "metadata": {
        "id": "view-in-github",
        "colab_type": "text"
      },
      "source": [
        "<a href=\"https://colab.research.google.com/github/taiphanvan2k3/Fundamental_AI/blob/main/NeuralNetwork_FromScratch.ipynb\" target=\"_parent\"><img src=\"https://colab.research.google.com/assets/colab-badge.svg\" alt=\"Open In Colab\"/></a>"
      ]
    },
    {
      "cell_type": "markdown",
      "source": [
        "### Neural Network from Scratch"
      ],
      "metadata": {
        "id": "r8sHIahNby9y"
      }
    },
    {
      "cell_type": "code",
      "source": [
        "class Layer():\n",
        "  def __init__(self, input, output, input_shape, output_shape):\n",
        "    self.input = input\n",
        "    self.output = output\n",
        "    self.input_shape = input_shape\n",
        "    self.output_shape = output_shape\n",
        "\n",
        "  @abstractmethod\n",
        "  def output(self):\n",
        "    return self.output\n",
        "\n",
        "  @abstractmethod\n",
        "  def input(self):\n",
        "    return self.input\n",
        "\n",
        "  @abstractmethod\n",
        "  def input_shape(self):\n",
        "    return self.input_shape\n",
        "\n",
        "  @abstractmethod\n",
        "  def output_shape(self):\n",
        "    return self.output_shape\n",
        "\n",
        "  @abstractmethod\n",
        "  def forward_pass(self):\n",
        "    pass\n",
        "\n",
        "  @abstractmethod\n",
        "  def backward_pass(self):\n",
        "    pass"
      ],
      "metadata": {
        "id": "IN_4_9elb2S6"
      },
      "execution_count": null,
      "outputs": []
    }
  ]
}